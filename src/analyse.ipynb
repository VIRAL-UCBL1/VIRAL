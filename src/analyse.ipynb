{
 "cells": [
  {
   "cell_type": "markdown",
   "metadata": {},
   "source": [
    "# analyse data"
   ]
  },
  {
   "cell_type": "code",
   "execution_count": 9,
   "metadata": {},
   "outputs": [],
   "source": [
    "import pandas as pd"
   ]
  },
  {
   "cell_type": "code",
   "execution_count": 16,
   "metadata": {},
   "outputs": [
    {
     "data": {
      "text/html": [
       "<div>\n",
       "<style scoped>\n",
       "    .dataframe tbody tr th:only-of-type {\n",
       "        vertical-align: middle;\n",
       "    }\n",
       "\n",
       "    .dataframe tbody tr th {\n",
       "        vertical-align: top;\n",
       "    }\n",
       "\n",
       "    .dataframe thead th {\n",
       "        text-align: right;\n",
       "    }\n",
       "</style>\n",
       "<table border=\"1\" class=\"dataframe\">\n",
       "  <thead>\n",
       "    <tr style=\"text-align: right;\">\n",
       "      <th></th>\n",
       "      <th>llm</th>\n",
       "      <th>reward_function</th>\n",
       "      <th>src</th>\n",
       "      <th>SR</th>\n",
       "    </tr>\n",
       "  </thead>\n",
       "  <tbody>\n",
       "    <tr>\n",
       "      <th>0</th>\n",
       "      <td>qwen2.5-coder</td>\n",
       "      <td>NaN</td>\n",
       "      <td>[0]</td>\n",
       "      <td>0.85</td>\n",
       "    </tr>\n",
       "    <tr>\n",
       "      <th>1</th>\n",
       "      <td>qwen2.5-coder</td>\n",
       "      <td>def reward_func(observations: np.ndarray, term...</td>\n",
       "      <td>[2]</td>\n",
       "      <td>0.98</td>\n",
       "    </tr>\n",
       "    <tr>\n",
       "      <th>2</th>\n",
       "      <td>qwen2.5-coder</td>\n",
       "      <td>def reward_func(observations: np.ndarray, term...</td>\n",
       "      <td>[1]</td>\n",
       "      <td>0.99</td>\n",
       "    </tr>\n",
       "    <tr>\n",
       "      <th>3</th>\n",
       "      <td>qwen2.5-coder</td>\n",
       "      <td>def reward_func(observations: np.ndarray, term...</td>\n",
       "      <td>[1, 3]</td>\n",
       "      <td>0.79</td>\n",
       "    </tr>\n",
       "    <tr>\n",
       "      <th>4</th>\n",
       "      <td>qwen2.5-coder</td>\n",
       "      <td>def reward_func(observations: np.ndarray, term...</td>\n",
       "      <td>[1, 4]</td>\n",
       "      <td>0.00</td>\n",
       "    </tr>\n",
       "  </tbody>\n",
       "</table>\n",
       "</div>"
      ],
      "text/plain": [
       "             llm                                    reward_function     src  \\\n",
       "0  qwen2.5-coder                                                NaN     [0]   \n",
       "1  qwen2.5-coder  def reward_func(observations: np.ndarray, term...     [2]   \n",
       "2  qwen2.5-coder  def reward_func(observations: np.ndarray, term...     [1]   \n",
       "3  qwen2.5-coder  def reward_func(observations: np.ndarray, term...  [1, 3]   \n",
       "4  qwen2.5-coder  def reward_func(observations: np.ndarray, term...  [1, 4]   \n",
       "\n",
       "     SR  \n",
       "0  0.85  \n",
       "1  0.98  \n",
       "2  0.99  \n",
       "3  0.79  \n",
       "4  0.00  "
      ]
     },
     "execution_count": 16,
     "metadata": {},
     "output_type": "execute_result"
    }
   ],
   "source": [
    "data = pd.read_csv('log/CartPole-v1_log.csv', delimiter=';')\n",
    "data"
   ]
  }
 ],
 "metadata": {
  "kernelspec": {
   "display_name": "llm",
   "language": "python",
   "name": "python3"
  },
  "language_info": {
   "codemirror_mode": {
    "name": "ipython",
    "version": 3
   },
   "file_extension": ".py",
   "mimetype": "text/x-python",
   "name": "python",
   "nbconvert_exporter": "python",
   "pygments_lexer": "ipython3",
   "version": "3.11.11"
  }
 },
 "nbformat": 4,
 "nbformat_minor": 2
}
