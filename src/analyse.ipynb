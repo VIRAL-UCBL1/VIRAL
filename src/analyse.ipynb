{
 "cells": [
  {
   "cell_type": "markdown",
   "metadata": {},
   "source": [
    "# analyse data"
   ]
  },
  {
   "cell_type": "code",
   "execution_count": 3,
   "metadata": {},
   "outputs": [],
   "source": [
    "import pandas as pd"
   ]
  },
  {
   "cell_type": "code",
   "execution_count": 4,
   "metadata": {},
   "outputs": [
    {
     "data": {
      "text/html": [
       "<div>\n",
       "<style scoped>\n",
       "    .dataframe tbody tr th:only-of-type {\n",
       "        vertical-align: middle;\n",
       "    }\n",
       "\n",
       "    .dataframe tbody tr th {\n",
       "        vertical-align: top;\n",
       "    }\n",
       "\n",
       "    .dataframe thead th {\n",
       "        text-align: right;\n",
       "    }\n",
       "</style>\n",
       "<table border=\"1\" class=\"dataframe\">\n",
       "  <thead>\n",
       "    <tr style=\"text-align: right;\">\n",
       "      <th></th>\n",
       "      <th>env</th>\n",
       "      <th>llm</th>\n",
       "      <th>reward_function</th>\n",
       "      <th>SR</th>\n",
       "    </tr>\n",
       "  </thead>\n",
       "  <tbody>\n",
       "    <tr>\n",
       "      <th>0</th>\n",
       "      <td>CartPole-v1</td>\n",
       "      <td>qwen2.5-coder</td>\n",
       "      <td>NaN</td>\n",
       "      <td>0.66</td>\n",
       "    </tr>\n",
       "    <tr>\n",
       "      <th>1</th>\n",
       "      <td>CartPole-v1</td>\n",
       "      <td>qwen2.5-coder</td>\n",
       "      <td>import numpy as np\\n\\ndef reward_func(observat...</td>\n",
       "      <td>0.82</td>\n",
       "    </tr>\n",
       "    <tr>\n",
       "      <th>2</th>\n",
       "      <td>CartPole-v1</td>\n",
       "      <td>qwen2.5-coder</td>\n",
       "      <td>import numpy as np\\n\\ndef reward_func(observat...</td>\n",
       "      <td>0.82</td>\n",
       "    </tr>\n",
       "    <tr>\n",
       "      <th>3</th>\n",
       "      <td>CartPole-v1</td>\n",
       "      <td>qwen2.5-coder</td>\n",
       "      <td>import numpy as np\\n\\ndef reward_func(observat...</td>\n",
       "      <td>0.10</td>\n",
       "    </tr>\n",
       "  </tbody>\n",
       "</table>\n",
       "</div>"
      ],
      "text/plain": [
       "           env            llm  \\\n",
       "0  CartPole-v1  qwen2.5-coder   \n",
       "1  CartPole-v1  qwen2.5-coder   \n",
       "2  CartPole-v1  qwen2.5-coder   \n",
       "3  CartPole-v1  qwen2.5-coder   \n",
       "\n",
       "                                     reward_function    SR  \n",
       "0                                                NaN  0.66  \n",
       "1  import numpy as np\\n\\ndef reward_func(observat...  0.82  \n",
       "2  import numpy as np\\n\\ndef reward_func(observat...  0.82  \n",
       "3  import numpy as np\\n\\ndef reward_func(observat...  0.10  "
      ]
     },
     "execution_count": 4,
     "metadata": {},
     "output_type": "execute_result"
    }
   ],
   "source": [
    "data = pd.read_csv('log/CartPole-v1_log.csv', delimiter=';')\n",
    "data"
   ]
  },
  {
   "cell_type": "code",
   "execution_count": null,
   "metadata": {},
   "outputs": [],
   "source": []
  }
 ],
 "metadata": {
  "kernelspec": {
   "display_name": "llm",
   "language": "python",
   "name": "python3"
  },
  "language_info": {
   "codemirror_mode": {
    "name": "ipython",
    "version": 3
   },
   "file_extension": ".py",
   "mimetype": "text/x-python",
   "name": "python",
   "nbconvert_exporter": "python",
   "pygments_lexer": "ipython3",
   "version": "3.11.11"
  }
 },
 "nbformat": 4,
 "nbformat_minor": 2
}
