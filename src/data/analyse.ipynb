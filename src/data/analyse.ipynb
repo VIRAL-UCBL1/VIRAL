{
 "cells": [
  {
   "cell_type": "markdown",
   "metadata": {},
   "source": [
    "# analyse data"
   ]
  },
  {
   "cell_type": "code",
   "execution_count": 1,
   "metadata": {},
   "outputs": [],
   "source": [
    "import pandas as pd\n",
    "import numpy as np\n",
    "import matplotlib.pyplot as plt"
   ]
  },
  {
   "cell_type": "code",
   "execution_count": 2,
   "metadata": {},
   "outputs": [],
   "source": [
    "def plot_reward(data: pd.DataFrame) -> None:\n",
    "\tfor index, row in data[['rewards', 'sr']].iterrows():\n",
    "\t\trew = row['rewards']\n",
    "\t\tsr = row['sr']\n",
    "\t\tplt.plot(rew, alpha=0.7)\n",
    "\tplt.legend()\n",
    "\tplt.ylabel('normalized cumulative reward')\n",
    "\tplt.xlabel('episodes')\n",
    "\tplt.title('CartPole')\n",
    "\tplt.suptitle('Comparison of learning converge speeds with success rate > 90%')\n",
    "\tplt.show()"
   ]
  },
  {
   "cell_type": "markdown",
   "metadata": {},
   "source": [
    "# Cartpole"
   ]
  },
  {
   "cell_type": "code",
   "execution_count": null,
   "metadata": {},
   "outputs": [],
   "source": [
    "data = pd.read_csv('CartPole_v1_log.csv', delimiter=';')\n",
    "data['rewards'] = data['rewards'].map(lambda x : np.array(list(map(float, x.split(',')))))\n",
    "#data = data.where(data['sr']>0.90).dropna()\n",
    "data"
   ]
  },
  {
   "cell_type": "code",
   "execution_count": null,
   "metadata": {},
   "outputs": [],
   "source": [
    "plot_reward(data)"
   ]
  },
  {
   "cell_type": "markdown",
   "metadata": {},
   "source": [
    "# Lunar Lander"
   ]
  },
  {
   "cell_type": "code",
   "execution_count": null,
   "metadata": {},
   "outputs": [],
   "source": [
    "data = pd.read_csv('log/LunarLander_v3_log.csv', delimiter=';')\n",
    "data['rewards'] = data['rewards'].map(lambda x : np.array(list(map(float, x.split(',')))))\n",
    "data = data.where(data['SR']>0.2).dropna()\n",
    "data"
   ]
  },
  {
   "cell_type": "code",
   "execution_count": null,
   "metadata": {},
   "outputs": [],
   "source": [
    "plot_reward(data)"
   ]
  },
  {
   "cell_type": "code",
   "execution_count": null,
   "metadata": {},
   "outputs": [],
   "source": [
    "data.loc[37]"
   ]
  },
  {
   "cell_type": "code",
   "execution_count": null,
   "metadata": {},
   "outputs": [],
   "source": [
    "print(data.loc[37].reward_function)"
   ]
  },
  {
   "cell_type": "markdown",
   "metadata": {},
   "source": [
    "# Hopper"
   ]
  },
  {
   "cell_type": "code",
   "execution_count": null,
   "metadata": {},
   "outputs": [],
   "source": [
    "data = pd.read_csv('log/Hopper_v5_log.csv', delimiter=';')\n",
    "data['rewards'] = data['rewards'].map(lambda x : np.array(list(map(float, x.split(',')))))\n",
    "data"
   ]
  },
  {
   "cell_type": "code",
   "execution_count": null,
   "metadata": {},
   "outputs": [],
   "source": [
    "print(data.iloc[1].reward_function)"
   ]
  },
  {
   "cell_type": "code",
   "execution_count": null,
   "metadata": {},
   "outputs": [],
   "source": [
    "for idx, rew in enumerate(data.iloc['rewards']):\n",
    "\tplt.plot(rew, label=idx, alpha=0.7)\n",
    "\tplt.legend()\t"
   ]
  }
 ],
 "metadata": {
  "kernelspec": {
   "display_name": "llm",
   "language": "python",
   "name": "python3"
  },
  "language_info": {
   "codemirror_mode": {
    "name": "ipython",
    "version": 3
   },
   "file_extension": ".py",
   "mimetype": "text/x-python",
   "name": "python",
   "nbconvert_exporter": "python",
   "pygments_lexer": "ipython3",
   "version": "3.11.11"
  }
 },
 "nbformat": 4,
 "nbformat_minor": 2
}
