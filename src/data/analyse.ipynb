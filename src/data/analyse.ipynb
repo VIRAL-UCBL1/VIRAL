{
 "cells": [
  {
   "cell_type": "markdown",
   "metadata": {},
   "source": [
    "# analyse data"
   ]
  },
  {
   "cell_type": "code",
   "execution_count": null,
   "metadata": {},
   "outputs": [],
   "source": [
    "import pandas as pd\n",
    "import numpy as np\n",
    "import matplotlib.pyplot as plt"
   ]
  },
  {
   "cell_type": "code",
   "execution_count": null,
   "metadata": {},
   "outputs": [],
   "source": [
    "def plot_reward(data: pd.DataFrame) -> None:\n",
    "\tfor index, row in data[['rewards', 'sr']].iterrows():\n",
    "\t\trew = row['rewards']\n",
    "\t\tsr = row['sr']\n",
    "\t\tplt.plot(rew, alpha=0.7)\n",
    "\tplt.legend()\n",
    "\tplt.ylabel('normalized cumulative reward')\n",
    "\tplt.xlabel('episodes')\n",
    "\tplt.title('CartPole')\n",
    "\tplt.suptitle('Comparison of learning converge speeds')\n",
    "\tplt.show()"
   ]
  },
  {
   "cell_type": "markdown",
   "metadata": {},
   "source": [
    "# Cartpole"
   ]
  },
  {
   "cell_type": "code",
   "execution_count": null,
   "metadata": {},
   "outputs": [],
   "source": [
    "data = pd.read_csv('CartPole_v1_log.csv', delimiter=';')\n",
    "data['rewards'] = data['rewards'].map(lambda x : np.array(list(map(float, x.split(',')))))\n",
    "data = data.where(data['sr']>0.90).dropna()\n",
    "data.where(data['llm'] == 'qwen2.5-coder_llama3.2-vision')\n",
    "data"
   ]
  },
  {
   "cell_type": "code",
   "execution_count": null,
   "metadata": {},
   "outputs": [],
   "source": [
    "plot_reward(data)"
   ]
  },
  {
   "cell_type": "code",
   "execution_count": null,
   "metadata": {},
   "outputs": [],
   "source": [
    "data_img = pd.read_csv('CartPole_v1_log_img.csv', delimiter=';')\n",
    "data_img['rewards'] = data_img['rewards'].map(lambda x : np.array(list(map(float, x.split(',')))))\n",
    "#data_img = data_img.where(data_img['sr']>0.90).dropna()\n",
    "data_img.where(data_img['llm'] == 'qwen2.5-coder_llama3.2-vision')\n",
    "data_img"
   ]
  },
  {
   "cell_type": "code",
   "execution_count": null,
   "metadata": {},
   "outputs": [],
   "source": [
    "plot_reward(data_img)"
   ]
  },
  {
   "cell_type": "code",
   "execution_count": null,
   "metadata": {},
   "outputs": [],
   "source": [
    "print('data std rw',data['std_reward'].describe())\n",
    "print('data_img std rw',data_img['std_reward'].describe())\n",
    "print()\n",
    "\n",
    "print('data mean rw',data['mean_reward'].describe())\n",
    "print('data_img mean rw',data_img['mean_reward'].describe())\n",
    "print()\n",
    "\n",
    "print('data sr',data['sr'].describe())\n",
    "print('data_img sr',data_img['sr'].describe())"
   ]
  },
  {
   "cell_type": "markdown",
   "metadata": {},
   "source": [
    "# Lunar Lander"
   ]
  },
  {
   "cell_type": "code",
   "execution_count": null,
   "metadata": {},
   "outputs": [],
   "source": [
    "data = pd.read_csv('log/LunarLander_v3_log.csv', delimiter=';')\n",
    "data['rewards'] = data['rewards'].map(lambda x : np.array(list(map(float, x.split(',')))))\n",
    "data = data.where(data['SR']>0.2).dropna()\n",
    "data"
   ]
  },
  {
   "cell_type": "code",
   "execution_count": null,
   "metadata": {},
   "outputs": [],
   "source": [
    "plot_reward(data)"
   ]
  },
  {
   "cell_type": "code",
   "execution_count": null,
   "metadata": {},
   "outputs": [],
   "source": [
    "data.loc[37]"
   ]
  },
  {
   "cell_type": "code",
   "execution_count": null,
   "metadata": {},
   "outputs": [],
   "source": [
    "print(data.loc[37].reward_function)"
   ]
  },
  {
   "cell_type": "markdown",
   "metadata": {},
   "source": [
    "# Hopper"
   ]
  },
  {
   "cell_type": "code",
   "execution_count": null,
   "metadata": {},
   "outputs": [],
   "source": [
    "data = pd.read_csv('Hopper_v5_log.csv', delimiter=';')\n",
    "data['rewards'] = data['rewards'].map(lambda x : np.array(list(map(float, x.split(',')))))\n",
    "\n",
    "for func in data['reward_function']:\n",
    "\tprint(func)"
   ]
  },
  {
   "cell_type": "code",
   "execution_count": null,
   "metadata": {},
   "outputs": [],
   "source": [
    "print(data.iloc[1].reward_function)"
   ]
  },
  {
   "cell_type": "code",
   "execution_count": null,
   "metadata": {},
   "outputs": [],
   "source": [
    "for idx, rew in enumerate(data.iloc['rewards']):\n",
    "\tplt.plot(rew, label=idx, alpha=0.7)\n",
    "\tplt.legend()\t"
   ]
  }
 ],
 "metadata": {
  "kernelspec": {
   "language": "python",
   "name": "python3"
  },
  "language_info": {
   "codemirror_mode": {
    "name": "ipython",
    "version": 3
   },
   "file_extension": ".py",
   "mimetype": "text/x-python",
   "name": "python",
   "nbconvert_exporter": "python",
   "pygments_lexer": "ipython3",
   "version": "3.11.11"
  }
 },
 "nbformat": 4,
 "nbformat_minor": 2
}
