{
 "cells": [
  {
   "cell_type": "markdown",
   "metadata": {},
   "source": [
    "# VIRAL compare algo\n",
    "this notebook intend only for selecting best methods foreach environment"
   ]
  },
  {
   "cell_type": "code",
   "execution_count": 1,
   "metadata": {},
   "outputs": [],
   "source": [
    "import gymnasium as gym\n",
    "from DirectSearch import DirectSearch\n",
    "from PPO import PPO\n",
    "from Reinforce import Reinforce"
   ]
  },
  {
   "cell_type": "code",
   "execution_count": 2,
   "metadata": {},
   "outputs": [],
   "source": [
    "def test_policy(policy, env):\n",
    "    all_rewards = []\n",
    "    all_states = []\n",
    "    nb_success = 0\n",
    "    for epi in range(1, 101):\n",
    "        total_reward = 0\n",
    "        state, _ = env.reset()\n",
    "        for i in range(1, 1001):\n",
    "            action = policy.output(state)\n",
    "            next_observation, reward, terminated, truncated, _ = env.step(action)\n",
    "            total_reward += reward\n",
    "            state = next_observation\n",
    "            all_states.append(state)\n",
    "            if terminated:\n",
    "                break\n",
    "            if truncated:\n",
    "                nb_success += 1\n",
    "                break\n",
    "    return all_states, all_rewards, (nb_success / 100)\n",
    "\n",
    "\n",
    "def learning(learning_method, env) -> None:\n",
    "    \"\"\"train a policy on an environment\"\"\"\n",
    "    policy, _, sr, nb_ep = learning_method.train()\n",
    "    _, rewards, sr_test = test_policy(policy, env)\n",
    "    print(\n",
    "        {\n",
    "            \"train_success_rate\": sr,\n",
    "            \"train_episodes\": nb_ep,\n",
    "            \"test_success_rate\": sr_test,\n",
    "            \"test_rewards\": rewards,\n",
    "        }\n",
    "    )"
   ]
  },
  {
   "cell_type": "markdown",
   "metadata": {},
   "source": [
    "## Cartpole"
   ]
  },
  {
   "cell_type": "code",
   "execution_count": 3,
   "metadata": {},
   "outputs": [
    {
     "ename": "RuntimeError",
     "evalue": "a Tensor with 2 elements cannot be converted to Scalar",
     "output_type": "error",
     "traceback": [
      "\u001b[0;31m---------------------------------------------------------------------------\u001b[0m",
      "\u001b[0;31mRuntimeError\u001b[0m                              Traceback (most recent call last)",
      "Cell \u001b[0;32mIn[3], line 2\u001b[0m\n\u001b[1;32m      1\u001b[0m env \u001b[38;5;241m=\u001b[39m gym\u001b[38;5;241m.\u001b[39mmake(\u001b[38;5;124m\"\u001b[39m\u001b[38;5;124mCartPole-v1\u001b[39m\u001b[38;5;124m\"\u001b[39m)\n\u001b[0;32m----> 2\u001b[0m \u001b[43mlearning\u001b[49m\u001b[43m(\u001b[49m\u001b[43mPPO\u001b[49m\u001b[43m(\u001b[49m\u001b[43menv\u001b[49m\u001b[43m)\u001b[49m\u001b[43m,\u001b[49m\u001b[43m \u001b[49m\u001b[43menv\u001b[49m\u001b[43m)\u001b[49m\n",
      "Cell \u001b[0;32mIn[2], line 24\u001b[0m, in \u001b[0;36mlearning\u001b[0;34m(learning_method, env)\u001b[0m\n\u001b[1;32m     22\u001b[0m \u001b[38;5;28;01mdef\u001b[39;00m \u001b[38;5;21mlearning\u001b[39m(learning_method, env) \u001b[38;5;241m-\u001b[39m\u001b[38;5;241m>\u001b[39m \u001b[38;5;28;01mNone\u001b[39;00m:\n\u001b[1;32m     23\u001b[0m \u001b[38;5;250m    \u001b[39m\u001b[38;5;124;03m\"\"\"train a policy on an environment\"\"\"\u001b[39;00m\n\u001b[0;32m---> 24\u001b[0m     policy, _, sr, nb_ep \u001b[38;5;241m=\u001b[39m \u001b[43mlearning_method\u001b[49m\u001b[38;5;241;43m.\u001b[39;49m\u001b[43mtrain\u001b[49m\u001b[43m(\u001b[49m\u001b[43m)\u001b[49m\n\u001b[1;32m     25\u001b[0m     _, rewards, sr_test \u001b[38;5;241m=\u001b[39m test_policy(policy, env)\n\u001b[1;32m     26\u001b[0m     \u001b[38;5;28mprint\u001b[39m(\n\u001b[1;32m     27\u001b[0m         {\n\u001b[1;32m     28\u001b[0m             \u001b[38;5;124m\"\u001b[39m\u001b[38;5;124mtrain_success_rate\u001b[39m\u001b[38;5;124m\"\u001b[39m: sr,\n\u001b[0;32m   (...)\u001b[0m\n\u001b[1;32m     32\u001b[0m         }\n\u001b[1;32m     33\u001b[0m     )\n",
      "File \u001b[0;32m~/Master2/VIRAL/src/RLAlgo/PPO.py:121\u001b[0m, in \u001b[0;36mPPO.train\u001b[0;34m(self, reward_func, save_name, stop)\u001b[0m\n\u001b[1;32m    119\u001b[0m action \u001b[38;5;241m=\u001b[39m dist\u001b[38;5;241m.\u001b[39msample()\n\u001b[1;32m    120\u001b[0m log_prob \u001b[38;5;241m=\u001b[39m dist\u001b[38;5;241m.\u001b[39mlog_prob(action)\n\u001b[0;32m--> 121\u001b[0m action \u001b[38;5;241m=\u001b[39m \u001b[43maction\u001b[49m\u001b[38;5;241;43m.\u001b[39;49m\u001b[43mitem\u001b[49m\u001b[43m(\u001b[49m\u001b[43m)\u001b[49m\n\u001b[1;32m    122\u001b[0m next_state, reward, terminated, truncated, _ \u001b[38;5;241m=\u001b[39m cp_policy\u001b[38;5;241m.\u001b[39menv\u001b[38;5;241m.\u001b[39mstep(action)\n\u001b[1;32m    123\u001b[0m log_probs\u001b[38;5;241m.\u001b[39mappend(log_prob)\n",
      "\u001b[0;31mRuntimeError\u001b[0m: a Tensor with 2 elements cannot be converted to Scalar"
     ]
    }
   ],
   "source": [
    "env = gym.make(\"CartPole-v1\")\n",
    "learning(PPO(env), env)"
   ]
  },
  {
   "cell_type": "code",
   "execution_count": null,
   "metadata": {},
   "outputs": [],
   "source": []
  }
 ],
 "metadata": {
  "kernelspec": {
   "display_name": "llm",
   "language": "python",
   "name": "python3"
  },
  "language_info": {
   "codemirror_mode": {
    "name": "ipython",
    "version": 3
   },
   "file_extension": ".py",
   "mimetype": "text/x-python",
   "name": "python",
   "nbconvert_exporter": "python",
   "pygments_lexer": "ipython3",
   "version": "3.11.10"
  }
 },
 "nbformat": 4,
 "nbformat_minor": 2
}
